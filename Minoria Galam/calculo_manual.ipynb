{
 "cells": [
  {
   "cell_type": "code",
   "execution_count": 60,
   "id": "e23d0b3c",
   "metadata": {},
   "outputs": [],
   "source": [
    "import matplotlib.pyplot\n",
    "import math\n",
    "import numpy as np"
   ]
  },
  {
   "cell_type": "code",
   "execution_count": 61,
   "id": "6ef65fd9",
   "metadata": {},
   "outputs": [],
   "source": [
    "def cof(k, j):\n",
    "    if j < 0 or j > k:\n",
    "        return 0\n",
    "    return math.factorial(k) // (math.factorial(j) * math.factorial(k - j))"
   ]
  },
  {
   "cell_type": "code",
   "execution_count": 62,
   "id": "0150dcdc",
   "metadata": {},
   "outputs": [],
   "source": [
    "py = 0.7\n",
    "pm = 1-py \n",
    "a = [0.2,0.2,0.2,0.2,0.1,0.1]"
   ]
  },
  {
   "cell_type": "code",
   "execution_count": 94,
   "id": "f3e288e9",
   "metadata": {},
   "outputs": [
    {
     "name": "stdout",
     "output_type": "stream",
     "text": [
      "0.683263\n"
     ]
    }
   ],
   "source": [
    "pt1 = a[0]*cof(1,1)*(py**1) + a[1]*cof(2,2)*(py**2)+ a[2]*(cof(3,2)*(py**2)*(pm)+cof(3,3)*(py**3)) + a[3]*(cof(4,3)*(py**3)*pm+cof(4,4)*(py**4)) + a[4]*(cof(5,3)*(py**3)*(pm**2) + cof(5,4)*(py**4)*pm + cof(5,5)*(py**5))+ a[5]*(cof(6,4)*(py**4)*(pm**2) + cof(6,5)*(py**5)*(pm) + cof(6,6)*(py**6))\n",
    "print(pt1)"
   ]
  },
  {
   "cell_type": "code",
   "execution_count": 95,
   "id": "04eb96f0",
   "metadata": {},
   "outputs": [
    {
     "data": {
      "text/plain": [
       "0.683323"
      ]
     },
     "execution_count": 95,
     "metadata": {},
     "output_type": "execute_result"
    }
   ],
   "source": [
    "0.14 + 0.098 + 0.1568 + 0.1304 + 0.083692 + 0.074431"
   ]
  },
  {
   "cell_type": "code",
   "execution_count": 96,
   "id": "217da7f2",
   "metadata": {},
   "outputs": [
    {
     "name": "stdout",
     "output_type": "stream",
     "text": [
      "0.683263\n"
     ]
    }
   ],
   "source": [
    "pt1 = a[0]*cof(1,1)*(py**1) + a[1]*cof(2,2)*(py**2) + a[2]*(cof(3,2)*(py**2)*(pm)+cof(3,3)*(py**3)) + a[3]*(cof(4,3)*(py**3)*pm + cof(4,4)*(py**4)) + a[4]*(cof(5,3)*(py**3)*(pm**2) + cof(5,4)*(py**4)*pm + cof(5,5)*(py**5)) + a[5]*(cof(6,4)*(py**4)*(pm**2) + cof(6,5)*(py**5)*(pm) + cof(6,6)*(py**6)) \n",
    "\n",
    "print(pt1)"
   ]
  },
  {
   "cell_type": "code",
   "execution_count": null,
   "id": "03f5cd0b",
   "metadata": {},
   "outputs": [],
   "source": []
  }
 ],
 "metadata": {
  "kernelspec": {
   "display_name": "Python 3 (ipykernel)",
   "language": "python",
   "name": "python3"
  },
  "language_info": {
   "codemirror_mode": {
    "name": "ipython",
    "version": 3
   },
   "file_extension": ".py",
   "mimetype": "text/x-python",
   "name": "python",
   "nbconvert_exporter": "python",
   "pygments_lexer": "ipython3",
   "version": "3.10.9"
  }
 },
 "nbformat": 4,
 "nbformat_minor": 5
}
